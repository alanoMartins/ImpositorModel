{
 "cells": [
  {
   "cell_type": "markdown",
   "metadata": {},
   "source": [
    "# GMM para Speech features"
   ]
  },
  {
   "cell_type": "markdown",
   "metadata": {},
   "source": [
    "## Importando libs"
   ]
  },
  {
   "cell_type": "code",
   "execution_count": 2,
   "metadata": {},
   "outputs": [],
   "source": [
    "import numpy as np\n",
    "import datetime\n",
    "import pandas as pd\n",
    "import matplotlib.pyplot as plt\n",
    "import random\n",
    "from scipy.stats import multivariate_normal\n",
    "import math\n",
    "from numpy import linalg as LA"
   ]
  },
  {
   "cell_type": "markdown",
   "metadata": {},
   "source": [
    "## Inicializando variáveis globais"
   ]
  },
  {
   "cell_type": "code",
   "execution_count": 3,
   "metadata": {},
   "outputs": [],
   "source": [
    "Ng = 3\n",
    "test_size = .2"
   ]
  },
  {
   "cell_type": "markdown",
   "metadata": {},
   "source": [
    "## Lendo os dados MFCC do arquivo"
   ]
  },
  {
   "cell_type": "code",
   "execution_count": 8,
   "metadata": {},
   "outputs": [
    {
     "data": {
      "text/plain": [
       "(array([ 1.,  0.,  0.,  0.,  1.,  0.,  0.,  0.,  1.,  1.,  1.,  1.,  0.,\n",
       "         1.,  1.,  0.,  0.,  1.,  1.,  0.,  1.,  0.]),\n",
       " array([[ 16.06516658,  -6.167928  , -11.60263281, ...,   9.73565104,\n",
       "          -6.01127765,  -0.39201773],\n",
       "        [ 15.52645668,  -5.77143651,  -8.6210234 , ...,  25.84498242,\n",
       "          -4.89838865,  11.15632049],\n",
       "        [ 15.90670822,  -0.70229411, -11.62260717, ...,   1.67244094,\n",
       "          -9.22338872,  -0.79974016],\n",
       "        ..., \n",
       "        [ 16.03676337,  -3.01418019,  -2.49913762, ...,  14.47599253,\n",
       "          -1.42811305,   2.77662196],\n",
       "        [ 19.67184283, -14.94721738, -16.43764792, ...,   8.47230223,\n",
       "          -9.10652143,   2.46218451],\n",
       "        [ 16.03121297,  -3.3894565 , -12.06090029, ...,  14.06559439,\n",
       "          -4.03672792,  -6.78197443]]))"
      ]
     },
     "execution_count": 8,
     "metadata": {},
     "output_type": "execute_result"
    }
   ],
   "source": [
    "target_frame_sanderson = pd.read_csv('data/feature_lib.csv')\n",
    "target_frame_sanderson.fillna(0, inplace=True)\n",
    "y = target_frame_sanderson.iloc[:, 1].values\n",
    "X = target_frame_sanderson.iloc[:, 2:100].values\n",
    "y, X"
   ]
  },
  {
   "cell_type": "markdown",
   "metadata": {},
   "source": [
    "## Separando treino e teste para validação cruzada"
   ]
  },
  {
   "cell_type": "code",
   "execution_count": 13,
   "metadata": {},
   "outputs": [],
   "source": [
    "data, tar = X, y\n",
    "\n",
    "def get_key(t):\n",
    "    return t[1]\n",
    "\n",
    "res = list(zip(data, tar))\n",
    "res = sorted(res, key=get_key)\n",
    "data, tar = list(zip(*res))\n",
    "d0 = data[0:10]\n",
    "d1 = data[10:20]\n",
    "d2 = data[20:30]\n",
    "\n",
    "t0 = tar[0:10]\n",
    "t1 = tar[10:20]\n",
    "t2 = tar[20:30]\n",
    "\n",
    "dataset, target = np.array([d0, d1, d2]), np.array([t0, t1, t2])\n",
    "\n",
    "n_interaction = [round(len(d) * test_size) for d in dataset]\n",
    "\n",
    "data_tes = []\n",
    "target_tes = []\n",
    "data_train = []\n",
    "target_train = []\n",
    "for d in range(0, len(dataset)):\n",
    "    for i in range(0, n_interaction[d]):\n",
    "        rand_i = random.randint(0, len(dataset[d]) - 1)\n",
    "        data_tes.append(dataset[d][rand_i])\n",
    "        target_tes.append(target[d][rand_i])\n",
    "        new_dataset = np.delete(dataset[d], rand_i, axis=0)\n",
    "        new_target = np.delete(target[d], rand_i, axis=0)\n",
    "    data_train.append(new_dataset)\n",
    "    target_train.append(new_target)\n",
    "X_train, y_train, X_test, y_test = data_train, target_train, data_tes, target_tes"
   ]
  },
  {
   "cell_type": "markdown",
   "metadata": {},
   "source": [
    "## Dividindo o treinamento em classes"
   ]
  },
  {
   "cell_type": "code",
   "execution_count": null,
   "metadata": {},
   "outputs": [],
   "source": []
  }
 ],
 "metadata": {
  "kernelspec": {
   "display_name": "Python 3",
   "language": "python",
   "name": "python3"
  },
  "language_info": {
   "codemirror_mode": {
    "name": "ipython",
    "version": 3
   },
   "file_extension": ".py",
   "mimetype": "text/x-python",
   "name": "python",
   "nbconvert_exporter": "python",
   "pygments_lexer": "ipython3",
   "version": "3.5.2"
  }
 },
 "nbformat": 4,
 "nbformat_minor": 2
}
